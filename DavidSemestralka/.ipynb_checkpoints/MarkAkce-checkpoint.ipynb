{
 "cells": [
  {
   "cell_type": "code",
   "execution_count": 3,
   "id": "7fa84f9f",
   "metadata": {},
   "outputs": [
    {
     "data": {
      "text/html": [
       "<div>\n",
       "<style scoped>\n",
       "    .dataframe tbody tr th:only-of-type {\n",
       "        vertical-align: middle;\n",
       "    }\n",
       "\n",
       "    .dataframe tbody tr th {\n",
       "        vertical-align: top;\n",
       "    }\n",
       "\n",
       "    .dataframe thead th {\n",
       "        text-align: right;\n",
       "    }\n",
       "</style>\n",
       "<table border=\"1\" class=\"dataframe\">\n",
       "  <thead>\n",
       "    <tr style=\"text-align: right;\">\n",
       "      <th></th>\n",
       "      <th>Class</th>\n",
       "      <th>Cost</th>\n",
       "      <th>Promotion</th>\n",
       "      <th>Before</th>\n",
       "      <th>After</th>\n",
       "    </tr>\n",
       "  </thead>\n",
       "  <tbody>\n",
       "    <tr>\n",
       "      <th>0</th>\n",
       "      <td>Confection</td>\n",
       "      <td>23.99</td>\n",
       "      <td>1467</td>\n",
       "      <td>114957</td>\n",
       "      <td>122762</td>\n",
       "    </tr>\n",
       "    <tr>\n",
       "      <th>1</th>\n",
       "      <td>Drink</td>\n",
       "      <td>79.29</td>\n",
       "      <td>1745</td>\n",
       "      <td>123378</td>\n",
       "      <td>137097</td>\n",
       "    </tr>\n",
       "    <tr>\n",
       "      <th>2</th>\n",
       "      <td>Luxury</td>\n",
       "      <td>81.99</td>\n",
       "      <td>1426</td>\n",
       "      <td>135246</td>\n",
       "      <td>141172</td>\n",
       "    </tr>\n",
       "    <tr>\n",
       "      <th>3</th>\n",
       "      <td>Confection</td>\n",
       "      <td>74.18</td>\n",
       "      <td>1098</td>\n",
       "      <td>231389</td>\n",
       "      <td>244456</td>\n",
       "    </tr>\n",
       "    <tr>\n",
       "      <th>4</th>\n",
       "      <td>Confection</td>\n",
       "      <td>90.09</td>\n",
       "      <td>1968</td>\n",
       "      <td>235648</td>\n",
       "      <td>261940</td>\n",
       "    </tr>\n",
       "  </tbody>\n",
       "</table>\n",
       "</div>"
      ],
      "text/plain": [
       "        Class   Cost  Promotion  Before   After\n",
       "0  Confection  23.99       1467  114957  122762\n",
       "1       Drink  79.29       1745  123378  137097\n",
       "2      Luxury  81.99       1426  135246  141172\n",
       "3  Confection  74.18       1098  231389  244456\n",
       "4  Confection  90.09       1968  235648  261940"
      ]
     },
     "execution_count": 3,
     "metadata": {},
     "output_type": "execute_result"
    }
   ],
   "source": [
    "import pandas as pd\n",
    "df = pd.read_csv('./GOODS1n.csv', encoding ='utf-8')\n",
    "df.head()"
   ]
  },
  {
   "cell_type": "markdown",
   "id": "d2a2d9e3",
   "metadata": {},
   "source": [
    "## Přetypování"
   ]
  },
  {
   "cell_type": "code",
   "execution_count": 4,
   "id": "82549411",
   "metadata": {},
   "outputs": [],
   "source": [
    "df = df.astype({\"Cost\":float}, errors='raise')\n",
    "df = df.astype({\"Promotion\":float}, errors='raise')\n",
    "df = df.astype({\"Before\":float}, errors='raise')\n",
    "df = df.astype({\"After\":float}, errors='raise')"
   ]
  },
  {
   "cell_type": "code",
   "execution_count": 8,
   "id": "4b068af1",
   "metadata": {},
   "outputs": [
    {
     "data": {
      "text/html": [
       "<div>\n",
       "<style scoped>\n",
       "    .dataframe tbody tr th:only-of-type {\n",
       "        vertical-align: middle;\n",
       "    }\n",
       "\n",
       "    .dataframe tbody tr th {\n",
       "        vertical-align: top;\n",
       "    }\n",
       "\n",
       "    .dataframe thead th {\n",
       "        text-align: right;\n",
       "    }\n",
       "</style>\n",
       "<table border=\"1\" class=\"dataframe\">\n",
       "  <thead>\n",
       "    <tr style=\"text-align: right;\">\n",
       "      <th></th>\n",
       "      <th>Class</th>\n",
       "      <th>Cost</th>\n",
       "      <th>Promotion</th>\n",
       "      <th>Before</th>\n",
       "      <th>After</th>\n",
       "      <th>Increase</th>\n",
       "    </tr>\n",
       "  </thead>\n",
       "  <tbody>\n",
       "    <tr>\n",
       "      <th>0</th>\n",
       "      <td>Confection</td>\n",
       "      <td>23.99</td>\n",
       "      <td>1467.0</td>\n",
       "      <td>114957.0</td>\n",
       "      <td>122762.0</td>\n",
       "      <td>6.789495</td>\n",
       "    </tr>\n",
       "    <tr>\n",
       "      <th>1</th>\n",
       "      <td>Drink</td>\n",
       "      <td>79.29</td>\n",
       "      <td>1745.0</td>\n",
       "      <td>123378.0</td>\n",
       "      <td>137097.0</td>\n",
       "      <td>11.119486</td>\n",
       "    </tr>\n",
       "    <tr>\n",
       "      <th>2</th>\n",
       "      <td>Luxury</td>\n",
       "      <td>81.99</td>\n",
       "      <td>1426.0</td>\n",
       "      <td>135246.0</td>\n",
       "      <td>141172.0</td>\n",
       "      <td>4.381645</td>\n",
       "    </tr>\n",
       "    <tr>\n",
       "      <th>3</th>\n",
       "      <td>Confection</td>\n",
       "      <td>74.18</td>\n",
       "      <td>1098.0</td>\n",
       "      <td>231389.0</td>\n",
       "      <td>244456.0</td>\n",
       "      <td>5.647200</td>\n",
       "    </tr>\n",
       "    <tr>\n",
       "      <th>4</th>\n",
       "      <td>Confection</td>\n",
       "      <td>90.09</td>\n",
       "      <td>1968.0</td>\n",
       "      <td>235648.0</td>\n",
       "      <td>261940.0</td>\n",
       "      <td>11.157319</td>\n",
       "    </tr>\n",
       "  </tbody>\n",
       "</table>\n",
       "</div>"
      ],
      "text/plain": [
       "        Class   Cost  Promotion    Before     After   Increase\n",
       "0  Confection  23.99     1467.0  114957.0  122762.0   6.789495\n",
       "1       Drink  79.29     1745.0  123378.0  137097.0  11.119486\n",
       "2      Luxury  81.99     1426.0  135246.0  141172.0   4.381645\n",
       "3  Confection  74.18     1098.0  231389.0  244456.0   5.647200\n",
       "4  Confection  90.09     1968.0  235648.0  261940.0  11.157319"
      ]
     },
     "execution_count": 8,
     "metadata": {},
     "output_type": "execute_result"
    }
   ],
   "source": [
    "df['Increase'] = (df['After']-df['Before'])/df['Before']*100\n",
    "df.head()"
   ]
  },
  {
   "cell_type": "code",
   "execution_count": 10,
   "id": "10e1ae3f",
   "metadata": {},
   "outputs": [
    {
     "data": {
      "image/png": "[encoded data removed]",
      "text/plain": [
       "<Figure size 432x288 with 1 Axes>"
      ]
     },
     "metadata": {
      "needs_background": "light"
     },
     "output_type": "display_data"
    }
   ],
   "source": [
    "prom_hist = df.hist(column=\"Increase\", bins=25)"
   ]
  },
  {
   "cell_type": "code",
   "execution_count": 15,
   "id": "563bf371",
   "metadata": {},
   "outputs": [
    {
     "data": {
      "image/png": "[encoded data removed]",
      "text/plain": [
       "<Figure size 432x288 with 1 Axes>"
      ]
     },
     "metadata": {
      "needs_background": "light"
     },
     "output_type": "display_data"
    }
   ],
   "source": [
    "import matplotlib.pyplot as plt\n",
    "\n",
    "def plot_columns(x_axis,y_axis, groupby):\n",
    "    fig, ax = plt.subplots(figsize=(6,4))\n",
    "    grouped = df.groupby(groupby)\n",
    "    \n",
    "    colors = ['tab:green','tab:orange','tab:blue','tab:red']\n",
    "    \n",
    "    for key, group in grouped:\n",
    "        group.plot(ax=ax, kind = 'scatter', x=x_axis, y=y_axis,label=key, color=colors.pop())\n",
    "    plt.show()\n",
    "    \n",
    "plot_columns('Promotion', 'Increase', 'Class')"
   ]
  },
  {
   "cell_type": "markdown",
   "id": "671272a3",
   "metadata": {},
   "source": [
    "## Použití CART "
   ]
  },
  {
   "cell_type": "code",
   "execution_count": null,
   "id": "b30a6dd5",
   "metadata": {},
   "outputs": [],
   "source": [
    "from sklearn.model_selection import train_test_split\n",
    "from sklearn import tree\n",
    "import numpy as np\n",
    "\n",
    "def fiting(X,y):\n",
    "    train_test_split(X,y,test_size=0.2, random_state= 0)\n",
    "    "
   ]
  }
 ],
 "metadata": {
  "kernelspec": {
   "display_name": "Python 3 (ipykernel)",
   "language": "python",
   "name": "python3"
  },
  "language_info": {
   "codemirror_mode": {
    "name": "ipython",
    "version": 3
   },
   "file_extension": ".py",
   "mimetype": "text/x-python",
   "name": "python",
   "nbconvert_exporter": "python",
   "pygments_lexer": "ipython3",
   "version": "3.9.5"
  }
 },
 "nbformat": 4,
 "nbformat_minor": 5
}
